{
 "cells": [
  {
   "cell_type": "markdown",
   "metadata": {},
   "source": []
  },
  {
   "cell_type": "code",
   "execution_count": 1,
   "metadata": {},
   "outputs": [],
   "source": [
    "import pandas as pd\n",
    "import numpy as np\n",
    "from sklearn.preprocessing import StandardScaler\n",
    "from sklearn.decomposition import PCA\n",
    "import matplotlib.pyplot as plt\n",
    "from hotelling.stats import hotelling_t2\n",
    "import statsmodels.api as sm \n"
   ]
  },
  {
   "cell_type": "markdown",
   "metadata": {},
   "source": []
  },
  {
   "cell_type": "code",
   "execution_count": 16,
   "metadata": {},
   "outputs": [
    {
     "name": "stdout",
     "output_type": "stream",
     "text": [
      "using 18 components for 99% variance\n"
     ]
    }
   ],
   "source": [
    "# Load data\n",
    "df = pd.read_csv('../figures/out/gdd_all_reduced_forR.csv',index_col=0)\n",
    "\n",
    "# PCA\n",
    "features = [f'G{i}' for i in range(30)]\n",
    "x = df.loc[:, features].values\n",
    "y = df.loc[:,['chol']].values\n",
    "x = StandardScaler().fit_transform(x)\n",
    "pca = PCA()\n",
    "principalComponents = pca.fit_transform(x)\n",
    "evr = pca.explained_variance_ratio_.cumsum()\n",
    "for i,j in enumerate(evr):\n",
    "    if j > 0.99:\n",
    "        nPCs = i + 1\n",
    "        break\n",
    "print(f'using {nPCs} components for 99% variance')\n",
    "pca = PCA(n_components=nPCs)\n",
    "principalComponents = pca.fit_transform(x)\n",
    "principalDf = pd.DataFrame(data = principalComponents\n",
    "            , columns = [f'PC{x}' for x in range(1,nPCs+1)])\n",
    "finalDf = pd.concat([principalDf, df[['chol']]], axis = 1)"
   ]
  },
  {
   "cell_type": "code",
   "execution_count": 17,
   "metadata": {},
   "outputs": [
    {
     "name": "stdout",
     "output_type": "stream",
     "text": [
      "hotelling P = 1.685459228578796e-224\n"
     ]
    }
   ],
   "source": [
    "# Hotelling p https://dionresearch.github.io/hotelling/modules.html#module-hotelling.stats\n",
    "# have to use PCs instead of raw features I think because some features are perfectly correlated?\n",
    "    # If I don't use PCs it returns an error\n",
    "x = finalDf[finalDf['chol'] == 15].drop(columns = ['chol']).to_numpy()\n",
    "y = finalDf[finalDf['chol'] == 30].drop(columns = ['chol']).to_numpy()\n",
    "print(f'hotelling P = {hotelling_t2(x,y)[2]}')"
   ]
  },
  {
   "cell_type": "code",
   "execution_count": null,
   "metadata": {},
   "outputs": [],
   "source": [
    "# Logistic model\n",
    "Xtrain = df[['gmat', 'gpa', 'work_experience']] \n",
    "ytrain = df[['admitted']] \n",
    "   \n",
    "# building the model and fitting the data \n",
    "log_reg = sm.Logit(ytrain, Xtrain).fit() "
   ]
  },
  {
   "cell_type": "code",
   "execution_count": null,
   "metadata": {},
   "outputs": [],
   "source": []
  }
 ],
 "metadata": {
  "kernelspec": {
   "display_name": "thesis",
   "language": "python",
   "name": "python3"
  },
  "language_info": {
   "codemirror_mode": {
    "name": "ipython",
    "version": 3
   },
   "file_extension": ".py",
   "mimetype": "text/x-python",
   "name": "python",
   "nbconvert_exporter": "python",
   "pygments_lexer": "ipython3",
   "version": "3.11.8"
  }
 },
 "nbformat": 4,
 "nbformat_minor": 2
}
